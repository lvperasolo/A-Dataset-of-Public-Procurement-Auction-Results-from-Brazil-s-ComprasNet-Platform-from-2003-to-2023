{
 "cells": [
  {
   "cell_type": "markdown",
   "metadata": {},
   "source": [
    "# ⚠️ **Disclaimer**\n",
    "\n",
    "*This is a simplified example provided solely for educational purposes. The analysis has not been optimized—for instance, missing values have not been addressed, and meaningful preprocessing steps have been omitted. As such, this should be viewed as a basic, incomplete, and potentially inaccurate illustration of the procurement process.*\n",
    "\n",
    "---"
   ]
  },
  {
   "cell_type": "code",
   "execution_count": 1,
   "metadata": {},
   "outputs": [],
   "source": [
    "import pandas as pd\n",
    "import matplotlib.pyplot as plt"
   ]
  },
  {
   "cell_type": "code",
   "execution_count": 2,
   "metadata": {},
   "outputs": [
    {
     "data": {
      "text/html": [
       "<div>\n",
       "<style scoped>\n",
       "    .dataframe tbody tr th:only-of-type {\n",
       "        vertical-align: middle;\n",
       "    }\n",
       "\n",
       "    .dataframe tbody tr th {\n",
       "        vertical-align: top;\n",
       "    }\n",
       "\n",
       "    .dataframe thead th {\n",
       "        text-align: right;\n",
       "    }\n",
       "</style>\n",
       "<table border=\"1\" class=\"dataframe\">\n",
       "  <thead>\n",
       "    <tr style=\"text-align: right;\">\n",
       "      <th></th>\n",
       "      <th>Número Licitação</th>\n",
       "      <th>Código UG</th>\n",
       "      <th>Nome UG</th>\n",
       "      <th>Código Modalidade Compra</th>\n",
       "      <th>Modalidade Compra</th>\n",
       "      <th>Número Processo</th>\n",
       "      <th>Código Empenho</th>\n",
       "      <th>Data Emissão Empenho</th>\n",
       "      <th>Observação Empenho</th>\n",
       "      <th>Valor Empenho (R$)</th>\n",
       "    </tr>\n",
       "  </thead>\n",
       "  <tbody>\n",
       "    <tr>\n",
       "      <th>0</th>\n",
       "      <td>12012</td>\n",
       "      <td>170120</td>\n",
       "      <td>DELEGACIA DA RFB EM CAMPOS GOYTACAZES</td>\n",
       "      <td>5</td>\n",
       "      <td>Pregão</td>\n",
       "      <td>15528000001201224</td>\n",
       "      <td>170120000012013NE800001</td>\n",
       "      <td>NaN</td>\n",
       "      <td>Sem informação</td>\n",
       "      <td>0,00</td>\n",
       "    </tr>\n",
       "    <tr>\n",
       "      <th>1</th>\n",
       "      <td>12012</td>\n",
       "      <td>170120</td>\n",
       "      <td>DELEGACIA DA RFB EM CAMPOS GOYTACAZES</td>\n",
       "      <td>5</td>\n",
       "      <td>Pregão</td>\n",
       "      <td>15528000001201224</td>\n",
       "      <td>170120000012014NE800013</td>\n",
       "      <td>08/01/2014</td>\n",
       "      <td>ATENDER DESPESAS COM SERVICOS DE MANUTENCAO EM...</td>\n",
       "      <td>10,00</td>\n",
       "    </tr>\n",
       "    <tr>\n",
       "      <th>2</th>\n",
       "      <td>12012</td>\n",
       "      <td>170120</td>\n",
       "      <td>DELEGACIA DA RFB EM CAMPOS GOYTACAZES</td>\n",
       "      <td>5</td>\n",
       "      <td>Pregão</td>\n",
       "      <td>15528000001201224</td>\n",
       "      <td>170120000012015NE800019</td>\n",
       "      <td>14/01/2015</td>\n",
       "      <td>ATENDER DESPESAS COM SERVICOS DE MANUTENCAO EM...</td>\n",
       "      <td>10,00</td>\n",
       "    </tr>\n",
       "    <tr>\n",
       "      <th>3</th>\n",
       "      <td>12012</td>\n",
       "      <td>510918</td>\n",
       "      <td>GERENCIA EXECUTIVA PASSO FUNDO</td>\n",
       "      <td>5</td>\n",
       "      <td>Pregão</td>\n",
       "      <td>35274000865201282</td>\n",
       "      <td>510918572022013NE800003</td>\n",
       "      <td>NaN</td>\n",
       "      <td>Sem informação</td>\n",
       "      <td>0,00</td>\n",
       "    </tr>\n",
       "    <tr>\n",
       "      <th>4</th>\n",
       "      <td>12012</td>\n",
       "      <td>580025</td>\n",
       "      <td>SUPERINT.FED.DE PESCA E AQUICULTURA/PB</td>\n",
       "      <td>5</td>\n",
       "      <td>Pregão</td>\n",
       "      <td>00365001949201230</td>\n",
       "      <td>580025000012013NE800001</td>\n",
       "      <td>NaN</td>\n",
       "      <td>Sem informação</td>\n",
       "      <td>0,00</td>\n",
       "    </tr>\n",
       "  </tbody>\n",
       "</table>\n",
       "</div>"
      ],
      "text/plain": [
       "   Número Licitação  Código UG                                 Nome UG  \\\n",
       "0             12012     170120   DELEGACIA DA RFB EM CAMPOS GOYTACAZES   \n",
       "1             12012     170120   DELEGACIA DA RFB EM CAMPOS GOYTACAZES   \n",
       "2             12012     170120   DELEGACIA DA RFB EM CAMPOS GOYTACAZES   \n",
       "3             12012     510918          GERENCIA EXECUTIVA PASSO FUNDO   \n",
       "4             12012     580025  SUPERINT.FED.DE PESCA E AQUICULTURA/PB   \n",
       "\n",
       "   Código Modalidade Compra Modalidade Compra    Número Processo  \\\n",
       "0                         5            Pregão  15528000001201224   \n",
       "1                         5            Pregão  15528000001201224   \n",
       "2                         5            Pregão  15528000001201224   \n",
       "3                         5            Pregão  35274000865201282   \n",
       "4                         5            Pregão  00365001949201230   \n",
       "\n",
       "            Código Empenho Data Emissão Empenho  \\\n",
       "0  170120000012013NE800001                  NaN   \n",
       "1  170120000012014NE800013           08/01/2014   \n",
       "2  170120000012015NE800019           14/01/2015   \n",
       "3  510918572022013NE800003                  NaN   \n",
       "4  580025000012013NE800001                  NaN   \n",
       "\n",
       "                                  Observação Empenho Valor Empenho (R$)  \n",
       "0                                     Sem informação               0,00  \n",
       "1  ATENDER DESPESAS COM SERVICOS DE MANUTENCAO EM...              10,00  \n",
       "2  ATENDER DESPESAS COM SERVICOS DE MANUTENCAO EM...              10,00  \n",
       "3                                     Sem informação               0,00  \n",
       "4                                     Sem informação               0,00  "
      ]
     },
     "execution_count": 2,
     "metadata": {},
     "output_type": "execute_result"
    }
   ],
   "source": [
    "df_empenhos = pd.read_csv('../procurement_auction_data/Empenhos.csv', encoding='ISO-8859-1', sep=';')\n",
    "df_empenhos.head()"
   ]
  },
  {
   "cell_type": "code",
   "execution_count": 3,
   "metadata": {},
   "outputs": [
    {
     "name": "stdout",
     "output_type": "stream",
     "text": [
      "Mapping of observations:\n",
      "A -> Informação protegida por sigilo nos termos da legislação vigente\n",
      "B -> ATENDER DESPESA COM O PRIMEIRO TERMO ADITIVO AO CONTRATO 10/2016 - SERVICOS  GRAFICOS ENEM 2017.                              PROCESSO 23036.002582/2015-41. PROC ORIGEM: 2016PR00006\n",
      "C -> COMPLEMENTO REF A SERVICO DE APOIO ADM E TECNICO.               OF 2019.2169 (F). VALOR TOTAL DO CONTRATO: RS 304.113.338,38         CONTRATO 223/2017 // UASG 254445 // PROC ORIGEM: 2017PR00318\n",
      "D -> ATENDER DESPESA COM SERVICOS ESPECIALIZADOS DE IMPLEMENTACAO, GERENCIAMENTO E ADMINISTRACAO DOS AUXILIOS ALIMENTACAO E REFEICAO VIA CARTAO ELETRONICO    P/ REDE EBSERH - UASG.155007 - PREGAO 14/2018 - PROC.23477.053375/2017-28 PRO\n",
      "E -> ATENDER DESPESA COM A APLICACAO DO SAEB 2019 - CONTRATO 12/2019.       (SUBSTITUTO DA NE 2019NE800569 - APOS AJUSTE ORCAMENTARIO)          PROCESSO 23036.001025/2019-37. PROC ORIGEM: 05000062019\n",
      "F -> ATENDER DESPESAS COM AQUISICAO DE ETANERCEPT 50MG/ML             SIN 25.873 PROC ORIGEM: 2019PR00044\n",
      "G -> COMPLEMENTO REF A SERVICO DE APOIO ADMINISTRATIVO E TECNICO.         OF 2018.1865 (A). (TOTAL DO CONTRATO R$ 298.723.205,40)            CONTRATO 223/2017 // UASG 254445 // PROC ORIGEM: 2017PR00318\n",
      "H -> SERVICO DE APOIO ADMINISTRATIVO E OPERACIONAL.                OF 2017.1760 (A). PROC ORIGEM: 2017PR00318\n",
      "I -> ATENDER DESPESA COM SERVICOS GRAFICOS - ENEM 2016.              PROCESSO 23036.002582/2015-41. PROC ORIGEM: 2016PR00006\n",
      "J -> EMEPNHO PARA ATENDER DESPESAS COM AUXILIO ALIMENTACAO E REFEICAO EM 2020   CONTRATO 01/2019 - 23477.008085/2019-91 PROC ORIGEM: 2018PR00014\n"
     ]
    },
    {
     "data": {
      "image/png": "[encoded data removed]",
      "text/plain": [
       "<Figure size 800x500 with 1 Axes>"
      ]
     },
     "metadata": {},
     "output_type": "display_data"
    }
   ],
   "source": [
    "# Convert Valor Empenho to numeric, replacing comma with dot and handling any non-numeric values\n",
    "df_empenhos['Valor Empenho (R$)'] = pd.to_numeric(df_empenhos['Valor Empenho (R$)'].str.replace(',', '.'), errors='coerce')\n",
    "\n",
    "# Group by Observação Empenho and sum the values\n",
    "top_observacoes = df_empenhos.groupby('Observação Empenho')['Valor Empenho (R$)'].sum().sort_values(ascending=False)\n",
    "\n",
    "# Create mapping for top 10 observations\n",
    "top_10_obs = top_observacoes.head(10)\n",
    "mapping = {chr(65 + i): item for i, item in enumerate(top_10_obs.index)}\n",
    "reverse_mapping = {item: key for key, item in mapping.items()}\n",
    "\n",
    "# Print the mapping\n",
    "print(\"Mapping of observations:\")\n",
    "for key, value in mapping.items():\n",
    "    print(f\"{key} -> {value}\")\n",
    "\n",
    "# Minimalistic bar plot of top 10 observations with mapped labels\n",
    "plt.figure(figsize=(8, 5))\n",
    "plt.bar(range(len(top_10_obs)), top_10_obs.values, color='lightblue')\n",
    "plt.xticks(range(len(top_10_obs)), [reverse_mapping[item] for item in top_10_obs.index])\n",
    "plt.ylabel('Total Value (R$)')\n",
    "plt.xlabel('Observação Empenho')\n",
    "plt.title('Top 10 Observações Empenho by Total Value')\n",
    "plt.tight_layout()\n",
    "plt.show()"
   ]
  }
 ],
 "metadata": {
  "kernelspec": {
   "display_name": "base",
   "language": "python",
   "name": "python3"
  },
  "language_info": {
   "codemirror_mode": {
    "name": "ipython",
    "version": 3
   },
   "file_extension": ".py",
   "mimetype": "text/x-python",
   "name": "python",
   "nbconvert_exporter": "python",
   "pygments_lexer": "ipython3",
   "version": "3.11.7"
  }
 },
 "nbformat": 4,
 "nbformat_minor": 2
}
